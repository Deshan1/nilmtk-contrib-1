{
 "cells": [
  {
   "cell_type": "markdown",
   "metadata": {},
   "source": [
    "## This notebook demonstrates the use of the new API on different datasets"
   ]
  },
  {
   "cell_type": "markdown",
   "metadata": {},
   "source": [
    "### Import the API"
   ]
  },
  {
   "cell_type": "code",
   "execution_count": 1,
   "metadata": {},
   "outputs": [],
   "source": [
    "from nilmtk.api import API"
   ]
  },
  {
   "cell_type": "markdown",
   "metadata": {},
   "source": [
    "## Cross Dataset Training and Testing \n",
    "### REDD -  train: building 1, ECO - test: building 1 , Model: Mean, FHMM\n"
   ]
  },
  {
   "cell_type": "code",
   "execution_count": 2,
   "metadata": {},
   "outputs": [],
   "source": [
    "#REDD #ECO\n",
    "d={\n",
    "    'params': {\n",
    "            'power': {'mains':['apparent', 'active'],# power ac_type for mains appliance\n",
    "                      'appliance':['active'] # power ac_type for submeters/appliance\n",
    "                     }\n",
    "        },\n",
    "    'sample_rate': 60,\n",
    "    'appliances': ['fridge','washing machine'],\n",
    "    'methods': {'Mean':{},\n",
    "                'FHMM':{} #parameters specific to the algorithm passed as a dictionary, For FHMM eg. num_of_states\n",
    "        },\n",
    "    'pre_trained': False, #path/false, yet to be implemented\n",
    "    'save_model':'/home/data/models/', #path/false, yet to be implemented\n",
    "    'save_predictions':'/home/data/pred/',# path/false, yet to be implemented\n",
    "    'train': {\n",
    "    'datasets': {\n",
    "            'REDD': {\n",
    "                'path':'/home/ayush/data/redd.h5',\n",
    "\t\t\t\t'buildings': {\n",
    "\t\t\t\t\t1: {\n",
    "\t\t\t\t\t\t'start_time': '2011-05-01',\n",
    "\t\t\t\t\t\t'end_time': '2011-05-13'\n",
    "\t\t\t\t\t}\n",
    "                }\n",
    "                \n",
    "\t\t\t}\n",
    "\t\t}\n",
    "\t},\n",
    "\t'test': {\n",
    "\t\t'datasets': {\n",
    "\t\t\t'ECO': {\n",
    "                'path':'/home/ayush/data/eco.h5',\n",
    "\t\t\t\t'buildings': {\n",
    "\t\t\t\t\t1: {\n",
    "\t\t\t\t\t\t'start_time': '2012-06-05',\n",
    "\t\t\t\t\t\t'end_time': '2012-06-07'\n",
    "\t\t\t\t\t},\n",
    "                }\n",
    "\t\t\t}\n",
    "\t\t},\n",
    "        'metrics':['rmse'] # metrics on which we want the predictions to be evaluated\n",
    "\t}\n",
    "}"
   ]
  },
  {
   "cell_type": "code",
   "execution_count": 3,
   "metadata": {},
   "outputs": [
    {
     "name": "stdout",
     "output_type": "stream",
     "text": [
      "............... Loading Data for training ...................\n",
      "Loading data for  REDD  dataset\n",
      "Loading building ...  1\n",
      "Loading data for meter ElecMeterID(instance=1, building=1, dataset='REDD')     "
     ]
    },
    {
     "name": "stderr",
     "output_type": "stream",
     "text": [
      "/home/ayush/nilm_metadata/nilm_metadata/file_management.py:16: YAMLLoadWarning: calling yaml.load() without Loader=... is deprecated, as the default Loader is unsafe. Please read https://msg.pyyaml.org/load for full details.\n",
      "  objs = yaml.load(fh)\n"
     ]
    },
    {
     "name": "stdout",
     "output_type": "stream",
     "text": [
      "Loading data for meter ElecMeterID(instance=2, building=1, dataset='REDD')     \n",
      "Done loading data all meters for this chunk.\n",
      "For appliance ..  fridge\n",
      "Loading data for  REDD  dataset\n",
      "Loading building ...  1\n",
      "Loading data for meter ElecMeterID(instance=5, building=1, dataset='REDD')     \n",
      "Done loading data all meters for this chunk.\n",
      "For appliance ..  washing machine\n",
      "Loading data for  REDD  dataset\n",
      "Loading building ...  1\n",
      "Loading data for meter ElecMeterID(instance=20, building=1, dataset='REDD')      dataset='REDD'), ElecMeterID(instance=20, building=1, dataset='REDD')))     \n",
      "Done loading data all meters for this chunk.\n",
      "\n",
      "Done loading data all meters for this chunk.\n",
      "Loading data for  ECO  dataset\n",
      "Loading data for meter ElecMeterID(instance=3, building=1, dataset='ECO')     \n",
      "Done loading data all meters for this chunk.\n",
      "Loading data for meter ElecMeterID(instance=10, building=1, dataset='ECO')     \n",
      "Done loading data all meters for this chunk.\n",
      "Loading data for meter ElecMeterID(instance=8, building=1, dataset='ECO')     \n",
      "Done loading data all meters for this chunk.\n",
      "...............Function in partial_fit mean  .............\n",
      "\n",
      "\n",
      ".........................FHMM partial_fit.................\n",
      "Training model for submeter 'fridge'\n",
      "Learnt model for : fridge\n",
      "Training model for submeter 'washing machine'\n",
      "Learnt model for : washing machine\n",
      "fridge\n",
      "washing machine\n",
      "End FHMM.................\n",
      "Estimating power demand for 'fridge'\n",
      "Estimating power demand for 'washing machine'\n",
      "............RMSE .............\n",
      "                       FHMM        Mean\n",
      "fridge           103.647937   27.971914\n",
      "washing machine  414.504500  172.729843\n"
     ]
    }
   ],
   "source": [
    "obj = API(d)"
   ]
  },
  {
   "cell_type": "markdown",
   "metadata": {},
   "source": [
    "### REDD -  train: building 1, test: building 1, 2 - on different timstamps, Model: Mean"
   ]
  },
  {
   "cell_type": "code",
   "execution_count": 4,
   "metadata": {},
   "outputs": [],
   "source": [
    "#REDD\n",
    "d={\n",
    "    'params': {\n",
    "            'power': {'mains':['apparent'],# power ac_type for mains appliance\n",
    "                      'appliance':['active'] # power ac_type for submeters/appliance\n",
    "                     }\n",
    "        },\n",
    "    'sample_rate': 60,\n",
    "    'appliances': ['sockets','fridge'],\n",
    "    'methods': {'Mean':{} #parameters specific to the algorithm passed as a dictionary\n",
    "        },\n",
    "    'pre_trained': False, #path/false, yet to be implemented\n",
    "    'save_model':'/home/data/models/', #path/false, yet to be implemented\n",
    "    'save_predictions':'/home/data/pred/',# path/false, yet to be implemented\n",
    "    'train': {\n",
    "    'datasets': {\n",
    "            'REDD': {\n",
    "                'path':'/home/ayush/data/redd.h5',\n",
    "\t\t\t\t'buildings': {\n",
    "\t\t\t\t\t1: {\n",
    "\t\t\t\t\t\t'start_time': '2011-05-01',\n",
    "\t\t\t\t\t\t'end_time': '2011-05-13'\n",
    "\t\t\t\t\t}\n",
    "                }\n",
    "                \n",
    "\t\t\t}\n",
    "\t\t}\n",
    "\t},\n",
    "\t'test': {\n",
    "\t\t'datasets': {\n",
    "\t\t\t'REDD': {\n",
    "                'path':'/home/ayush/data/redd.h5',\n",
    "\t\t\t\t'buildings': {\n",
    "\t\t\t\t\t1: {\n",
    "\t\t\t\t\t\t'start_time': '2011-05-15',\n",
    "\t\t\t\t\t\t'end_time': '2011-05-30'\n",
    "\t\t\t\t\t},\n",
    "                    2:{\n",
    "                        'start_time': '2011-05-20',\n",
    "\t\t\t\t\t\t'end_time': '2011-05-30'\n",
    "                    }\n",
    "                }\n",
    "\t\t\t}\n",
    "\t\t},\n",
    "        'metrics':['rmse'] # metrics on which we want the predictions to be evaluated\n",
    "\t}\n",
    "}"
   ]
  },
  {
   "cell_type": "markdown",
   "metadata": {},
   "source": [
    "## Passing the configuration structure to the API\n",
    "#### 1. Loading Data\n",
    "#### 2. Calls partial_fit for Training Data for the mentioned algorithms\n",
    "#### 3. Calls disaggregate_chunk for the mentioned algorithms\n",
    "#### 4. Calls predict to the calculate predictions \n",
    "#### 5. Outputs the metrics provided (RMSE in this notebook) for each appliance and each algorithm"
   ]
  },
  {
   "cell_type": "code",
   "execution_count": 5,
   "metadata": {
    "scrolled": true
   },
   "outputs": [
    {
     "name": "stdout",
     "output_type": "stream",
     "text": [
      "............... Loading Data for training ...................\n",
      "Loading data for  REDD  dataset\n",
      "Loading building ...  1\n",
      "Loading data for meter ElecMeterID(instance=2, building=1, dataset='REDD')     \n",
      "Done loading data all meters for this chunk.\n",
      "For appliance ..  sockets\n",
      "Loading data for  REDD  dataset\n",
      "Loading building ...  1\n",
      "Loading data for meter ElecMeterID(instance=16, building=1, dataset='REDD')     \n",
      "Done loading data all meters for this chunk.\n",
      "For appliance ..  fridge\n",
      "Loading data for  REDD  dataset\n",
      "Loading building ...  1\n",
      "Loading data for meter ElecMeterID(instance=5, building=1, dataset='REDD')     \n",
      "Done loading data all meters for this chunk.\n",
      "Loading data for  REDD  dataset\n",
      "Loading data for meter ElecMeterID(instance=2, building=1, dataset='REDD')     \n",
      "Done loading data all meters for this chunk.\n",
      "Loading data for meter ElecMeterID(instance=16, building=1, dataset='REDD')     \n",
      "Done loading data all meters for this chunk.\n",
      "Loading data for meter ElecMeterID(instance=5, building=1, dataset='REDD')     \n",
      "Done loading data all meters for this chunk.\n",
      "...............Function in partial_fit mean  .............\n",
      "\n",
      "\n",
      "Estimating power demand for 'sockets'\n",
      "Estimating power demand for 'fridge'\n",
      "............RMSE .............\n",
      "              Mean\n",
      "fridge   94.585724\n",
      "sockets  83.714973\n",
      "Loading data for meter ElecMeterID(instance=2, building=2, dataset='REDD')     \n",
      "Done loading data all meters for this chunk.\n",
      "Loading data for meter ElecMeterID(instance=8, building=2, dataset='REDD')     \n",
      "Done loading data all meters for this chunk.\n",
      "Loading data for meter ElecMeterID(instance=9, building=2, dataset='REDD')     \n",
      "Done loading data all meters for this chunk.\n",
      "...............Function in partial_fit mean  .............\n",
      "\n",
      "\n",
      "Estimating power demand for 'sockets'\n",
      "Estimating power demand for 'fridge'\n",
      "............RMSE .............\n",
      "               Mean\n",
      "fridge   129.000381\n",
      "sockets   48.537235\n"
     ]
    }
   ],
   "source": [
    "obj = API(d)"
   ]
  },
  {
   "cell_type": "markdown",
   "metadata": {},
   "source": [
    "### Let us take a look at the mean model predictions dataframe for the appliance.\n",
    "#### Since its calculating just a singe state for the appliance, that is the overall mean power, we expect to see a single constant value "
   ]
  },
  {
   "cell_type": "code",
   "execution_count": 6,
   "metadata": {
    "scrolled": false
   },
   "outputs": [
    {
     "data": {
      "text/html": [
       "<div>\n",
       "<style scoped>\n",
       "    .dataframe tbody tr th:only-of-type {\n",
       "        vertical-align: middle;\n",
       "    }\n",
       "\n",
       "    .dataframe tbody tr th {\n",
       "        vertical-align: top;\n",
       "    }\n",
       "\n",
       "    .dataframe thead th {\n",
       "        text-align: right;\n",
       "    }\n",
       "</style>\n",
       "<table border=\"1\" class=\"dataframe\">\n",
       "  <thead>\n",
       "    <tr style=\"text-align: right;\">\n",
       "      <th></th>\n",
       "      <th>fridge</th>\n",
       "      <th>sockets</th>\n",
       "    </tr>\n",
       "  </thead>\n",
       "  <tbody>\n",
       "    <tr>\n",
       "      <th>2011-05-22 20:57:00+01:00</th>\n",
       "      <td>45.0</td>\n",
       "      <td>51.0</td>\n",
       "    </tr>\n",
       "    <tr>\n",
       "      <th>2011-05-22 20:58:00+01:00</th>\n",
       "      <td>45.0</td>\n",
       "      <td>51.0</td>\n",
       "    </tr>\n",
       "    <tr>\n",
       "      <th>2011-05-22 20:59:00+01:00</th>\n",
       "      <td>45.0</td>\n",
       "      <td>51.0</td>\n",
       "    </tr>\n",
       "    <tr>\n",
       "      <th>2011-05-22 21:00:00+01:00</th>\n",
       "      <td>45.0</td>\n",
       "      <td>51.0</td>\n",
       "    </tr>\n",
       "    <tr>\n",
       "      <th>2011-05-22 21:01:00+01:00</th>\n",
       "      <td>45.0</td>\n",
       "      <td>51.0</td>\n",
       "    </tr>\n",
       "  </tbody>\n",
       "</table>\n",
       "</div>"
      ],
      "text/plain": [
       "                           fridge  sockets\n",
       "2011-05-22 20:57:00+01:00    45.0     51.0\n",
       "2011-05-22 20:58:00+01:00    45.0     51.0\n",
       "2011-05-22 20:59:00+01:00    45.0     51.0\n",
       "2011-05-22 21:00:00+01:00    45.0     51.0\n",
       "2011-05-22 21:01:00+01:00    45.0     51.0"
      ]
     },
     "execution_count": 6,
     "metadata": {},
     "output_type": "execute_result"
    }
   ],
   "source": [
    "obj.pred_overall['Mean'].head()"
   ]
  },
  {
   "cell_type": "markdown",
   "metadata": {},
   "source": [
    "# Testing across few more common datasets."
   ]
  },
  {
   "cell_type": "markdown",
   "metadata": {},
   "source": [
    "## iAWe -  train: building 1, test: building 1 twice on different timstamps , Model: Mean, CO"
   ]
  },
  {
   "cell_type": "code",
   "execution_count": 7,
   "metadata": {},
   "outputs": [],
   "source": [
    "#iAWe\n",
    "d={\n",
    "    'params': {\n",
    "            'power': {'mains':['active'],\n",
    "                      'appliance':['active']\n",
    "                     }\n",
    "        },\n",
    "    'sample_rate': 60,\n",
    "    'appliances': ['fridge'],\n",
    "    'methods': {'Mean':{},\n",
    "                'CO':{},\n",
    "                #'FHMM':{}\n",
    "        },\n",
    "    'pre_trained': False,\n",
    "    'save_model':'/home/data/models/', #path/false\n",
    "    'save_predictions':'/home/data/pred/',# path/false\n",
    "    'train': {\n",
    "    'datasets': {\n",
    "            'iAWe': {\n",
    "                'path':'/home/ayush/data/iawe.h5',\n",
    "\t\t\t\t'buildings': {\n",
    "\t\t\t\t\t1: {\n",
    "\t\t\t\t\t\t'start_time': '2013-05-24',\n",
    "\t\t\t\t\t\t'end_time': '2013-06-24'\n",
    "\t\t\t\t\t}\n",
    "                }\n",
    "                \n",
    "\t\t\t}\n",
    "\t\t}\n",
    "\t},\n",
    "\t'test': {\n",
    "\t\t'datasets': {\n",
    "\t\t\t'iAWe': {\n",
    "                'path':'/home/ayush/data/iawe.h5',\n",
    "\t\t\t\t'buildings': {\n",
    "\t\t\t\t\t1: {\n",
    "\t\t\t\t\t\t'start_time': '2013-05-24',\n",
    "\t\t\t\t\t\t'end_time': '2013-06-24'\n",
    "\t\t\t\t\t},\n",
    "                    1:{\n",
    "                        'start_time': '2013-05-24',\n",
    "\t\t\t\t\t\t'end_time': '2013-06-24'\n",
    "                    }\n",
    "                }\n",
    "\t\t\t}\n",
    "\t\t},\n",
    "        'metrics':['rmse','mae']\n",
    "\t}\n",
    "}"
   ]
  },
  {
   "cell_type": "code",
   "execution_count": 8,
   "metadata": {},
   "outputs": [
    {
     "name": "stdout",
     "output_type": "stream",
     "text": [
      "............... Loading Data for training ...................\n",
      "Loading data for  iAWe  dataset\n",
      "Loading building ...  1\n",
      "Loading data for meter ElecMeterID(instance=2, building=1, dataset='iAWE')     \n",
      "Done loading data all meters for this chunk.\n",
      "For appliance ..  fridge\n",
      "Loading data for  iAWe  dataset\n",
      "Loading building ...  1\n",
      "Loading data for meter ElecMeterID(instance=3, building=1, dataset='iAWE')     \n",
      "Done loading data all meters for this chunk.\n",
      "Loading data for  iAWe  dataset\n",
      "Loading data for meter ElecMeterID(instance=2, building=1, dataset='iAWE')     \n",
      "Done loading data all meters for this chunk.\n",
      "Loading data for meter ElecMeterID(instance=3, building=1, dataset='iAWE')     \n",
      "Done loading data all meters for this chunk.\n",
      "...............Function in partial_fit mean  .............\n",
      "\n",
      "\n",
      "...............Function in partial_fit.............\n",
      "Estimating power demand for 'fridge'\n",
      "Estimating power demand for 'fridge'\n",
      "state_combinations.......... [[  0]\n",
      " [ 36]\n",
      " [122]]\n",
      "summed_power_of_each_combination.......... [  0  36 122]\n",
      "Estimating power demand for 'fridge'\n",
      "state_combinations.......... [[  0]\n",
      " [ 36]\n",
      " [122]]\n",
      "summed_power_of_each_combination.......... [  0  36 122]\n",
      "Estimating power demand for 'fridge'\n",
      "............RMSE .............\n",
      "               CO      Mean\n",
      "fridge  94.316704  58.71191\n"
     ]
    }
   ],
   "source": [
    "obj = API(d)"
   ]
  },
  {
   "cell_type": "markdown",
   "metadata": {},
   "source": [
    "## DRED -  train: building 1, test: building 1 twice on different timstamps, Model: Mean, CO, FHMM"
   ]
  },
  {
   "cell_type": "code",
   "execution_count": 9,
   "metadata": {},
   "outputs": [],
   "source": [
    "#DRED\n",
    "d={\n",
    "    'params': {\n",
    "            'power': {'mains':['apparent'],\n",
    "                      'appliance':['apparent']\n",
    "                     }\n",
    "        },\n",
    "    'sample_rate': 60,\n",
    "    'appliances': ['fridge'],\n",
    "    'methods': {'Mean':{},\n",
    "                'CO':{},\n",
    "                'FHMM':{}\n",
    "        },\n",
    "    'pre_trained': False,\n",
    "    'pre_trained': False,\n",
    "    'save_model':'/home/data/models/', #dummy\n",
    "    'save_predictions':'/home/data/pred/',#dummy\n",
    "    'train': {\n",
    "    'datasets': {\n",
    "            'DRED': {\n",
    "                'path':'/home/ayush/data/dred.h5',\n",
    "\t\t\t\t'buildings': {\n",
    "\t\t\t\t\t1: {\n",
    "\t\t\t\t\t\t'start_time': '2015-07-10',\n",
    "\t\t\t\t\t\t'end_time': '2015-08-10'\n",
    "\t\t\t\t\t}\n",
    "                }\n",
    "                \n",
    "\t\t\t}\n",
    "\t\t}\n",
    "\t},\n",
    "\t'test': {\n",
    "\t\t'datasets': {\n",
    "\t\t\t'DRED': {\n",
    "                'path':'/home/ayush/data/dred.h5',\n",
    "\t\t\t\t'buildings': {\n",
    "\t\t\t\t\t1: {\n",
    "\t\t\t\t\t\t'start_time': '2015-08-15',\n",
    "\t\t\t\t\t\t'end_time': '2015-08-20'\n",
    "\t\t\t\t\t},\n",
    "                    1:{\n",
    "                        'start_time': '2015-08-15',\n",
    "\t\t\t\t\t\t'end_time': '2015-08-20'\n",
    "                    }\n",
    "                }\n",
    "\t\t\t}\n",
    "\t\t},\n",
    "        'metrics':['rmse','mae']\n",
    "\t}\n",
    "}"
   ]
  },
  {
   "cell_type": "code",
   "execution_count": 10,
   "metadata": {
    "scrolled": true
   },
   "outputs": [
    {
     "name": "stdout",
     "output_type": "stream",
     "text": [
      "............... Loading Data for training ...................\n",
      "Loading data for  DRED  dataset\n",
      "Loading building ...  1\n",
      "For appliance ..  fridge\n",
      "Loading data for  DRED  dataset\n",
      "Loading building ...  1\n",
      "Loading data for meter ElecMeterID(instance=4, building=1, dataset='DRED')     \n",
      "Done loading data all meters for this chunk.\n",
      "Loading data for  DRED  dataset\n",
      "Loading data for meter ElecMeterID(instance=4, building=1, dataset='DRED')     \n",
      "Done loading data all meters for this chunk.\n",
      "...............Function in partial_fit mean  .............\n",
      "\n",
      "\n",
      "...............Function in partial_fit.............\n",
      ".........................FHMM partial_fit.................\n",
      "Training model for submeter 'fridge'\n",
      "Learnt model for : fridge\n",
      "fridge\n",
      "End FHMM.................\n",
      "Estimating power demand for 'fridge'\n",
      "state_combinations.......... [[ 0]\n",
      " [36]\n",
      " [95]]\n",
      "summed_power_of_each_combination.......... [ 0 36 95]\n",
      "Estimating power demand for 'fridge'\n",
      "............RMSE .............\n",
      "               CO      FHMM       Mean\n",
      "fridge  49.444515  51.58793  45.670567\n"
     ]
    }
   ],
   "source": [
    "obj = API(d)"
   ]
  },
  {
   "cell_type": "markdown",
   "metadata": {},
   "source": [
    "## ECO -  train: building 1, test: building 1, , Model: Mean, CO, FHMM"
   ]
  },
  {
   "cell_type": "code",
   "execution_count": 11,
   "metadata": {},
   "outputs": [],
   "source": [
    "#ECO\n",
    "d={\n",
    "    'params': {\n",
    "            'power': {'mains':['active'],\n",
    "                      'appliance':['active']\n",
    "                     }\n",
    "        },\n",
    "    'sample_rate': 60,\n",
    "    'appliances': ['fridge'],\n",
    "    'methods': {'Mean':{},\n",
    "                'CO':{},\n",
    "                'FHMM':{}\n",
    "        },\n",
    "    'pre_trained': False,\n",
    "    'pre_trained': False,\n",
    "    'save_model':'/home/data/models/', #dummy\n",
    "    'save_predictions':'/home/data/pred/',#dummy\n",
    "    'train': {\n",
    "    'datasets': {\n",
    "            'ECO': {\n",
    "                'path':'/home/ayush/data/eco.h5',\n",
    "\t\t\t\t'buildings': {\n",
    "\t\t\t\t\t1: {\n",
    "\t\t\t\t\t\t'start_time': '2012-06-01',\n",
    "\t\t\t\t\t\t'end_time': '2012-06-05'\n",
    "\t\t\t\t\t}\n",
    "                }\n",
    "                \n",
    "\t\t\t}\n",
    "\t\t}\n",
    "\t},\n",
    "\t'test': {\n",
    "\t\t'datasets': {\n",
    "\t\t\t'ECO': {\n",
    "                'path':'/home/ayush/data/eco.h5',\n",
    "\t\t\t\t'buildings': {\n",
    "\t\t\t\t\t1: {\n",
    "\t\t\t\t\t\t'start_time': '2012-06-05',\n",
    "\t\t\t\t\t\t'end_time': '2012-06-07'\n",
    "\t\t\t\t\t},\n",
    "                }\n",
    "\t\t\t}\n",
    "\t\t},\n",
    "        'metrics':['rmse']\n",
    "\t}\n",
    "}"
   ]
  },
  {
   "cell_type": "code",
   "execution_count": 12,
   "metadata": {},
   "outputs": [
    {
     "name": "stdout",
     "output_type": "stream",
     "text": [
      "............... Loading Data for training ...................\n",
      "Loading data for  ECO  dataset\n",
      "Loading building ...  1\n",
      "Loading data for meter ElecMeterID(instance=3, building=1, dataset='ECO')     \n",
      "Done loading data all meters for this chunk.\n",
      "For appliance ..  fridge\n",
      "Loading data for  ECO  dataset\n",
      "Loading building ...  1\n",
      "Loading data for meter ElecMeterID(instance=10, building=1, dataset='ECO')     \n",
      "Done loading data all meters for this chunk.\n",
      "Loading data for  ECO  dataset\n",
      "Loading data for meter ElecMeterID(instance=3, building=1, dataset='ECO')     \n",
      "Done loading data all meters for this chunk.\n",
      "Loading data for meter ElecMeterID(instance=10, building=1, dataset='ECO')     \n",
      "Done loading data all meters for this chunk.\n",
      "...............Function in partial_fit mean  .............\n",
      "\n",
      "\n",
      "...............Function in partial_fit.............\n",
      ".........................FHMM partial_fit.................\n",
      "Training model for submeter 'fridge'\n",
      "Learnt model for : fridge\n",
      "fridge\n",
      "End FHMM.................\n",
      "Estimating power demand for 'fridge'\n",
      "state_combinations.......... [[ 0]\n",
      " [40]\n",
      " [82]]\n",
      "summed_power_of_each_combination.......... [ 0 40 82]\n",
      "Estimating power demand for 'fridge'\n",
      "............RMSE .............\n",
      "               CO       FHMM       Mean\n",
      "fridge  43.921383  37.719107  27.337742\n"
     ]
    }
   ],
   "source": [
    "obj = API(d)"
   ]
  },
  {
   "cell_type": "code",
   "execution_count": null,
   "metadata": {},
   "outputs": [],
   "source": []
  }
 ],
 "metadata": {
  "kernelspec": {
   "display_name": "Python 3",
   "language": "python",
   "name": "python3"
  },
  "language_info": {
   "codemirror_mode": {
    "name": "ipython",
    "version": 3
   },
   "file_extension": ".py",
   "mimetype": "text/x-python",
   "name": "python",
   "nbconvert_exporter": "python",
   "pygments_lexer": "ipython3",
   "version": "3.6.7"
  }
 },
 "nbformat": 4,
 "nbformat_minor": 2
}
