{
 "cells": [
  {
   "cell_type": "code",
   "execution_count": 2,
   "metadata": {},
   "outputs": [],
   "source": [
    "from api import API"
   ]
  },
  {
   "cell_type": "code",
   "execution_count": 3,
   "metadata": {},
   "outputs": [],
   "source": [
    "# REDD \n",
    "\n",
    "redd={\n",
    "    'params': {\n",
    "            'power': {'mains':['apparent'],\n",
    "                      'appliance':['active']\n",
    "                     }\n",
    "        },\n",
    "    'sample_rate': 60,\n",
    "    'appliances': ['fridge'],\n",
    "    'methods': {\n",
    "                    \"Mean\":{},\"AFHMM\":{}\n",
    "                },\n",
    "    'chunk_size': None,\n",
    "    'train': {    \n",
    "    'datasets': {\n",
    "            'REDD': {\n",
    "                'path': 'C:/Users/Hp/Desktop/Rithwik/redd2.h5',\n",
    "\t\t\t\t'buildings': {\n",
    "\t\t\t\t\t2: {\n",
    "\t\t\t\t\t\t'start_time': '2011-04-21',\n",
    "\t\t\t\t\t\t'end_time': '2011-04-27'\n",
    "\t\t\t\t\t},                    \n",
    "                }                \n",
    "\t\t\t}\n",
    "\t\t}\n",
    "\t},\n",
    "\t'test': {\n",
    "\t\t'datasets': {\n",
    "\t\t\t'REDD': {\n",
    "                'path': 'C:/Users/Hp/Desktop/Rithwik/redd2.h5',\n",
    "\t\t\t\t'buildings': {\n",
    "\t\t\t\t\t2: {\n",
    "\t\t\t\t\t\t'start_time': '2011-04-27',\n",
    "\t\t\t\t\t\t'end_time': '2011-04-28'\n",
    "\t\t\t\t\t}\n",
    "                }\n",
    "\t\t\t}\n",
    "\t\t},\n",
    "        'metrics':['mae','rmse','rel_error']\n",
    "\t}\n",
    "}\n"
   ]
  },
  {
   "cell_type": "code",
   "execution_count": null,
   "metadata": {},
   "outputs": [
    {
     "name": "stdout",
     "output_type": "stream",
     "text": [
      "Started training for  Mean\n",
      "Joint training for  Mean\n",
      "............... Loading Data for training ...................\n",
      "Loading data for  REDD  dataset\n",
      "Loading building ...  2\n",
      "Loading data for meter ElecMeterID(instance=2, building=2, dataset='REDD')     \n",
      "Done loading data all meters for this chunk.\n",
      "Loading data for meter ElecMeterID(instance=9, building=2, dataset='REDD')     \n",
      "Done loading data all meters for this chunk.\n",
      "Dropping missing values\n",
      "Finished training for  Mean\n",
      "Started training for  AFHMM\n",
      "Joint training for  AFHMM\n",
      "............... Loading Data for training ...................\n",
      "Loading data for  REDD  dataset\n",
      "Loading building ...  2\n",
      "Loading data for meter ElecMeterID(instance=2, building=2, dataset='REDD')     \n",
      "Done loading data all meters for this chunk.\n",
      "Loading data for meter ElecMeterID(instance=9, building=2, dataset='REDD')     \n",
      "Done loading data all meters for this chunk.\n",
      "Dropping missing values\n",
      "[array([[  6.19652811],\n",
      "       [159.64698361]])]\n",
      "Finished Training\n",
      "Finished training for  AFHMM\n",
      "Joint Testing for all algorithms\n",
      "Loading data for  REDD  dataset\n",
      "Loading data for meter ElecMeterID(instance=1, building=2, dataset='REDD')     "
     ]
    }
   ],
   "source": [
    "API(redd)"
   ]
  },
  {
   "cell_type": "code",
   "execution_count": 6,
   "metadata": {},
   "outputs": [],
   "source": []
  },
  {
   "cell_type": "code",
   "execution_count": null,
   "metadata": {},
   "outputs": [],
   "source": []
  },
  {
   "cell_type": "code",
   "execution_count": null,
   "metadata": {},
   "outputs": [],
   "source": []
  },
  {
   "cell_type": "code",
   "execution_count": null,
   "metadata": {},
   "outputs": [],
   "source": []
  },
  {
   "cell_type": "code",
   "execution_count": null,
   "metadata": {},
   "outputs": [],
   "source": []
  },
  {
   "cell_type": "code",
   "execution_count": null,
   "metadata": {},
   "outputs": [],
   "source": []
  }
 ],
 "metadata": {
  "kernelspec": {
   "display_name": "Python 3",
   "language": "python",
   "name": "python3"
  }
 },
 "nbformat": 4,
 "nbformat_minor": 2
}
