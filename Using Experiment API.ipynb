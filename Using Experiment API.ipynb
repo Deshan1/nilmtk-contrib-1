{
 "cells": [
  {
   "cell_type": "code",
   "execution_count": 1,
   "metadata": {},
   "outputs": [
    {
     "name": "stderr",
     "output_type": "stream",
     "text": [
      "Using TensorFlow backend.\n",
      "C:\\Users\\Hp\\Anaconda3\\envs\\new_nilmtk\\lib\\site-packages\\tensorflow\\python\\framework\\dtypes.py:526: FutureWarning: Passing (type, 1) or '1type' as a synonym of type is deprecated; in a future version of numpy, it will be understood as (type, (1,)) / '(1,)type'.\n",
      "  _np_qint8 = np.dtype([(\"qint8\", np.int8, 1)])\n",
      "C:\\Users\\Hp\\Anaconda3\\envs\\new_nilmtk\\lib\\site-packages\\tensorflow\\python\\framework\\dtypes.py:527: FutureWarning: Passing (type, 1) or '1type' as a synonym of type is deprecated; in a future version of numpy, it will be understood as (type, (1,)) / '(1,)type'.\n",
      "  _np_quint8 = np.dtype([(\"quint8\", np.uint8, 1)])\n",
      "C:\\Users\\Hp\\Anaconda3\\envs\\new_nilmtk\\lib\\site-packages\\tensorflow\\python\\framework\\dtypes.py:528: FutureWarning: Passing (type, 1) or '1type' as a synonym of type is deprecated; in a future version of numpy, it will be understood as (type, (1,)) / '(1,)type'.\n",
      "  _np_qint16 = np.dtype([(\"qint16\", np.int16, 1)])\n",
      "C:\\Users\\Hp\\Anaconda3\\envs\\new_nilmtk\\lib\\site-packages\\tensorflow\\python\\framework\\dtypes.py:529: FutureWarning: Passing (type, 1) or '1type' as a synonym of type is deprecated; in a future version of numpy, it will be understood as (type, (1,)) / '(1,)type'.\n",
      "  _np_quint16 = np.dtype([(\"quint16\", np.uint16, 1)])\n",
      "C:\\Users\\Hp\\Anaconda3\\envs\\new_nilmtk\\lib\\site-packages\\tensorflow\\python\\framework\\dtypes.py:530: FutureWarning: Passing (type, 1) or '1type' as a synonym of type is deprecated; in a future version of numpy, it will be understood as (type, (1,)) / '(1,)type'.\n",
      "  _np_qint32 = np.dtype([(\"qint32\", np.int32, 1)])\n",
      "C:\\Users\\Hp\\Anaconda3\\envs\\new_nilmtk\\lib\\site-packages\\tensorflow\\python\\framework\\dtypes.py:535: FutureWarning: Passing (type, 1) or '1type' as a synonym of type is deprecated; in a future version of numpy, it will be understood as (type, (1,)) / '(1,)type'.\n",
      "  np_resource = np.dtype([(\"resource\", np.ubyte, 1)])\n",
      "C:\\Users\\Hp\\Anaconda3\\envs\\new_nilmtk\\lib\\site-packages\\tensorflow\\python\\keras\\backend.py:5201: ResourceWarning: unclosed file <_io.TextIOWrapper name='C:\\\\Users\\\\Hp\\\\.keras\\\\keras.json' mode='r' encoding='cp1252'>\n",
      "  _config = json.load(open(_config_path))\n"
     ]
    }
   ],
   "source": [
    "from api import API"
   ]
  },
  {
   "cell_type": "code",
   "execution_count": 2,
   "metadata": {},
   "outputs": [],
   "source": [
    "# REDD \n",
    "\n",
    "redd={\n",
    "    'params': {\n",
    "            'power': {'mains':['apparent'],\n",
    "                      'appliance':['active']\n",
    "                     }\n",
    "        },\n",
    "    'sample_rate': 60,\n",
    "    'appliances': ['fridge'],\n",
    "    'methods': {\n",
    "                    \"RNN\":{},\"Mean\":{}\n",
    "        #\"Seq2Point\":{},\"Seq2Seq\":{},\"DAE\":{}\n",
    "                },\n",
    "    'chunk_size': None,\n",
    "    'train': {    \n",
    "    'datasets': {\n",
    "            'REDD': {\n",
    "                'path': 'C:/Users/Hp/Desktop/Rithwik/redd2.h5',\n",
    "\t\t\t\t'buildings': {\n",
    "\t\t\t\t\t2: {\n",
    "\t\t\t\t\t\t'start_time': '2011-04-21',\n",
    "\t\t\t\t\t\t'end_time': '2011-04-27'\n",
    "\t\t\t\t\t},                    \n",
    "                }                \n",
    "\t\t\t}\n",
    "\t\t}\n",
    "\t},\n",
    "\t'test': {\n",
    "\t\t'datasets': {\n",
    "\t\t\t'REDD': {\n",
    "                'path': 'C:/Users/Hp/Desktop/Rithwik/redd2.h5',\n",
    "\t\t\t\t'buildings': {\n",
    "\t\t\t\t\t2: {\n",
    "\t\t\t\t\t\t'start_time': '2011-04-27',\n",
    "\t\t\t\t\t\t'end_time': '2011-04-28'\n",
    "\t\t\t\t\t}\n",
    "                }\n",
    "\t\t\t}\n",
    "\t\t},\n",
    "        'metrics':['mae','rmse','rel_error']\n",
    "\t}\n",
    "}\n"
   ]
  },
  {
   "cell_type": "code",
   "execution_count": 3,
   "metadata": {},
   "outputs": [
    {
     "name": "stdout",
     "output_type": "stream",
     "text": [
      "Started training for  WindowGRU\n",
      "<disaggregate.rnn.RNN object at 0x0000029C1BD47E48> False None\n",
      "Joint training for  WindowGRU\n",
      "............... Loading Data for training ...................\n",
      "Loading data for  REDD  dataset\n",
      "Loading building ...  2\n",
      "Loading data for meter ElecMeterID(instance=2, building=2, dataset='REDD')     \n",
      "Done loading data all meters for this chunk.\n",
      "Loading data for meter ElecMeterID(instance=9, building=2, dataset='REDD')     \n",
      "Done loading data all meters for this chunk.\n",
      "Dropping missing values\n",
      "Training processing\n",
      "First model training for  fridge\n",
      "WARNING:tensorflow:From C:\\Users\\Hp\\Anaconda3\\envs\\new_nilmtk\\lib\\site-packages\\tensorflow\\python\\framework\\op_def_library.py:263: colocate_with (from tensorflow.python.framework.ops) is deprecated and will be removed in a future version.\n",
      "Instructions for updating:\n",
      "Colocations handled automatically by placer.\n",
      "WARNING:tensorflow:From C:\\Users\\Hp\\Anaconda3\\envs\\new_nilmtk\\lib\\site-packages\\tensorflow\\python\\ops\\math_ops.py:3066: to_int32 (from tensorflow.python.ops.math_ops) is deprecated and will be removed in a future version.\n",
      "Instructions for updating:\n",
      "Use tf.cast instead.\n",
      "Train on 7344 samples, validate on 1296 samples\n",
      "Epoch 1/1\n",
      "7344/7344 [==============================] - 11s 1ms/step - loss: 0.0018 - mean_squared_error: 0.0018 - val_loss: 0.0019 - val_mean_squared_error: 0.0019\n",
      "\n",
      "Epoch 00001: val_loss improved from inf to 0.00191, saving model to temp-weights.h5\n",
      "Finished training for  WindowGRU\n",
      "Started training for  Mean\n",
      "<disaggregate.mean.Mean object at 0x0000029C1BD47F60> True None\n",
      "Joint training for  Mean\n",
      "............... Loading Data for training ...................\n",
      "Loading data for  REDD  dataset\n",
      "Loading building ...  2\n",
      "Loading data for meter ElecMeterID(instance=2, building=2, dataset='REDD')     \n",
      "Done loading data all meters for this chunk.\n",
      "Loading data for meter ElecMeterID(instance=9, building=2, dataset='REDD')     \n",
      "Done loading data all meters for this chunk.\n",
      "Dropping missing values\n",
      "Finished training for  Mean\n",
      "Joint Testing for all algorithms\n",
      "Loading data for  REDD  dataset\n",
      "Loading data for meter ElecMeterID(instance=2, building=2, dataset='REDD')     \n",
      "Done loading data all meters for this chunk.\n",
      "Loading data for meter ElecMeterID(instance=9, building=2, dataset='REDD')     \n",
      "Done loading data all meters for this chunk.\n",
      "Dropping missing values\n"
     ]
    },
    {
     "data": {
      "image/png": "[encoded data removed]",
      "text/plain": [
       "<Figure size 432x288 with 1 Axes>"
      ]
     },
     "metadata": {
      "needs_background": "light"
     },
     "output_type": "display_data"
    },
    {
     "name": "stdout",
     "output_type": "stream",
     "text": [
      "............  mae  ..............\n",
      "              RNN       Mean\n",
      "fridge  63.838959  79.353798\n",
      "............  rmse  ..............\n",
      "             RNN       Mean\n",
      "fridge  74.00396  85.407753\n",
      "............  rel_error  ..............\n",
      "               RNN        Mean\n",
      "fridge  407.540417  545.013952\n"
     ]
    },
    {
     "data": {
      "text/plain": [
       "<api.API at 0x29c1bd47be0>"
      ]
     },
     "execution_count": 3,
     "metadata": {},
     "output_type": "execute_result"
    }
   ],
   "source": [
    "API(redd)"
   ]
  },
  {
   "cell_type": "code",
   "execution_count": 6,
   "metadata": {},
   "outputs": [],
   "source": []
  },
  {
   "cell_type": "code",
   "execution_count": null,
   "metadata": {},
   "outputs": [],
   "source": []
  },
  {
   "cell_type": "code",
   "execution_count": null,
   "metadata": {},
   "outputs": [],
   "source": []
  },
  {
   "cell_type": "code",
   "execution_count": null,
   "metadata": {},
   "outputs": [],
   "source": []
  },
  {
   "cell_type": "code",
   "execution_count": null,
   "metadata": {},
   "outputs": [],
   "source": []
  },
  {
   "cell_type": "code",
   "execution_count": null,
   "metadata": {},
   "outputs": [],
   "source": []
  }
 ],
 "metadata": {
  "kernelspec": {
   "display_name": "Python 3",
   "language": "python",
   "name": "python3"
  },
  "language_info": {
   "codemirror_mode": {
    "name": "ipython",
    "version": 3
   },
   "file_extension": ".py",
   "mimetype": "text/x-python",
   "name": "python",
   "nbconvert_exporter": "python",
   "pygments_lexer": "ipython3",
   "version": "3.6.7"
  }
 },
 "nbformat": 4,
 "nbformat_minor": 2
}
