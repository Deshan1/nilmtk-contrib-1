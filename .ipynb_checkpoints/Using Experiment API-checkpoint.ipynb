{
 "cells": [
  {
   "cell_type": "code",
   "execution_count": null,
   "metadata": {},
   "outputs": [
    {
     "name": "stderr",
     "output_type": "stream",
     "text": [
      "Using TensorFlow backend.\n",
      "C:\\Users\\Hp\\Anaconda3\\envs\\new_nilmtk\\lib\\site-packages\\tensorflow\\python\\framework\\dtypes.py:526: FutureWarning: Passing (type, 1) or '1type' as a synonym of type is deprecated; in a future version of numpy, it will be understood as (type, (1,)) / '(1,)type'.\n",
      "  _np_qint8 = np.dtype([(\"qint8\", np.int8, 1)])\n",
      "C:\\Users\\Hp\\Anaconda3\\envs\\new_nilmtk\\lib\\site-packages\\tensorflow\\python\\framework\\dtypes.py:527: FutureWarning: Passing (type, 1) or '1type' as a synonym of type is deprecated; in a future version of numpy, it will be understood as (type, (1,)) / '(1,)type'.\n",
      "  _np_quint8 = np.dtype([(\"quint8\", np.uint8, 1)])\n",
      "C:\\Users\\Hp\\Anaconda3\\envs\\new_nilmtk\\lib\\site-packages\\tensorflow\\python\\framework\\dtypes.py:528: FutureWarning: Passing (type, 1) or '1type' as a synonym of type is deprecated; in a future version of numpy, it will be understood as (type, (1,)) / '(1,)type'.\n",
      "  _np_qint16 = np.dtype([(\"qint16\", np.int16, 1)])\n",
      "C:\\Users\\Hp\\Anaconda3\\envs\\new_nilmtk\\lib\\site-packages\\tensorflow\\python\\framework\\dtypes.py:529: FutureWarning: Passing (type, 1) or '1type' as a synonym of type is deprecated; in a future version of numpy, it will be understood as (type, (1,)) / '(1,)type'.\n",
      "  _np_quint16 = np.dtype([(\"quint16\", np.uint16, 1)])\n",
      "C:\\Users\\Hp\\Anaconda3\\envs\\new_nilmtk\\lib\\site-packages\\tensorflow\\python\\framework\\dtypes.py:530: FutureWarning: Passing (type, 1) or '1type' as a synonym of type is deprecated; in a future version of numpy, it will be understood as (type, (1,)) / '(1,)type'.\n",
      "  _np_qint32 = np.dtype([(\"qint32\", np.int32, 1)])\n",
      "C:\\Users\\Hp\\Anaconda3\\envs\\new_nilmtk\\lib\\site-packages\\tensorflow\\python\\framework\\dtypes.py:535: FutureWarning: Passing (type, 1) or '1type' as a synonym of type is deprecated; in a future version of numpy, it will be understood as (type, (1,)) / '(1,)type'.\n",
      "  np_resource = np.dtype([(\"resource\", np.ubyte, 1)])\n"
     ]
    }
   ],
   "source": [
    "from api import API"
   ]
  },
  {
   "cell_type": "code",
   "execution_count": null,
   "metadata": {},
   "outputs": [],
   "source": [
    "# REDD \n",
    "\n",
    "redd={\n",
    "    'params': {\n",
    "            'power': {'mains':['apparent'],\n",
    "                      'appliance':['active']\n",
    "                     }\n",
    "        },\n",
    "    'sample_rate': 60,\n",
    "    'appliances': ['fridge'],\n",
    "    'methods': {\n",
    "                    \"Seq2Point\":{}\n",
    "                },\n",
    "    'chunk_size': None,\n",
    "    'train': {    \n",
    "    'datasets': {\n",
    "            'REDD': {\n",
    "                'path': 'C:/Users/Hp/Desktop/Rithwik/redd2.h5',\n",
    "\t\t\t\t'buildings': {\n",
    "\t\t\t\t\t2: {\n",
    "\t\t\t\t\t\t'start_time': '2011-04-21',\n",
    "\t\t\t\t\t\t'end_time': '2011-04-27'\n",
    "\t\t\t\t\t},                    \n",
    "                }                \n",
    "\t\t\t}\n",
    "\t\t}\n",
    "\t},\n",
    "\t'test': {\n",
    "\t\t'datasets': {\n",
    "\t\t\t'REDD': {\n",
    "                'path': 'C:/Users/Hp/Desktop/Rithwik/redd2.h5',\n",
    "\t\t\t\t'buildings': {\n",
    "\t\t\t\t\t2: {\n",
    "\t\t\t\t\t\t'start_time': '2011-04-27',\n",
    "\t\t\t\t\t\t'end_time': '2011-04-28'\n",
    "\t\t\t\t\t}\n",
    "                }\n",
    "\t\t\t}\n",
    "\t\t},\n",
    "        'metrics':['mae','rmse','rel_error']\n",
    "\t}\n",
    "}\n"
   ]
  },
  {
   "cell_type": "code",
   "execution_count": null,
   "metadata": {},
   "outputs": [],
   "source": [
    "API(redd)"
   ]
  },
  {
   "cell_type": "code",
   "execution_count": 6,
   "metadata": {},
   "outputs": [],
   "source": []
  },
  {
   "cell_type": "code",
   "execution_count": null,
   "metadata": {},
   "outputs": [],
   "source": []
  },
  {
   "cell_type": "code",
   "execution_count": null,
   "metadata": {},
   "outputs": [],
   "source": []
  },
  {
   "cell_type": "code",
   "execution_count": null,
   "metadata": {},
   "outputs": [],
   "source": []
  },
  {
   "cell_type": "code",
   "execution_count": null,
   "metadata": {},
   "outputs": [],
   "source": []
  },
  {
   "cell_type": "code",
   "execution_count": null,
   "metadata": {},
   "outputs": [],
   "source": []
  }
 ],
 "metadata": {
  "kernelspec": {
   "display_name": "Python 3",
   "language": "python",
   "name": "python3"
  }
 },
 "nbformat": 4,
 "nbformat_minor": 2
}
