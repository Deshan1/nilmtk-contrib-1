{
 "cells": [
  {
   "cell_type": "markdown",
   "metadata": {},
   "source": [
    "### Importing Preprocessing API"
   ]
  },
  {
   "cell_type": "code",
   "execution_count": 1,
   "metadata": {
    "scrolled": true
   },
   "outputs": [
    {
     "name": "stderr",
     "output_type": "stream",
     "text": [
      "Using TensorFlow backend.\n"
     ]
    }
   ],
   "source": [
    "from nilmtk.preprocessAPI import PreprocessAPI"
   ]
  },
  {
   "cell_type": "markdown",
   "metadata": {},
   "source": [
    "### Dictionary for preprocessing "
   ]
  },
  {
   "cell_type": "code",
   "execution_count": 2,
   "metadata": {},
   "outputs": [],
   "source": [
    "preprocessing={\n",
    "    'params': {\n",
    "            'power': {'mains':['apparent'],\n",
    "                      'appliance':['active']\n",
    "                     }\n",
    "        },\n",
    "    'sample_rate': 60,\n",
    "    'name': 'neural-nilm',\n",
    "    'appliances': ['sockets'],\n",
    "    'chunk_size': 1000,\n",
    "    'train_store': 'preprocessed-train.h5',\n",
    "    'test_store': 'preprocessed-test.h5',\n",
    "    'preprocessing_function': ['normalise'],\n",
    "    'train': {\n",
    "    'datasets': {\n",
    "            'REDD': {\n",
    "                'path':'/home/ayush/data/redd.h5',\n",
    "\t\t\t\t'buildings': {\n",
    "\t\t\t\t\t1: {\n",
    "\t\t\t\t\t\t'start_time': '2011-05-01',\n",
    "\t\t\t\t\t\t'end_time': '2011-05-02'\n",
    "\t\t\t\t\t}                    \n",
    "                }\n",
    "                \n",
    "\t\t\t}\n",
    "\t\t}\n",
    "\t},\n",
    "\t'test': {\n",
    "\t\t'datasets': {\n",
    "\t\t\t'REDD': {\n",
    "                'path':'/home/ayush/data/redd.h5',\n",
    "\t\t\t\t'buildings': {\n",
    "\t\t\t\t\t1: {\n",
    "\t\t\t\t\t\t'start_time': '2011-05-02',\n",
    "\t\t\t\t\t\t'end_time': '2011-05-03'\n",
    "\t\t\t\t\t},\n",
    "                }\n",
    "\t\t\t}\n",
    "\t\t}\n",
    "    }\n",
    "}"
   ]
  },
  {
   "cell_type": "code",
   "execution_count": null,
   "metadata": {},
   "outputs": [],
   "source": []
  },
  {
   "cell_type": "code",
   "execution_count": 3,
   "metadata": {},
   "outputs": [
    {
     "name": "stdout",
     "output_type": "stream",
     "text": [
      "............... Loading Data for training ...................\n",
      "Loading data for  REDD  dataset\n",
      "Loading building ...  1\n",
      "Loading data for meter ElecMeterID(instance=1, building=1, dataset='REDD')     "
     ]
    },
    {
     "name": "stderr",
     "output_type": "stream",
     "text": [
      "/home/ayush/nilm_metadata/nilm_metadata/file_management.py:16: YAMLLoadWarning: calling yaml.load() without Loader=... is deprecated, as the default Loader is unsafe. Please read https://msg.pyyaml.org/load for full details.\n",
      "  objs = yaml.load(fh)\n"
     ]
    },
    {
     "name": "stdout",
     "output_type": "stream",
     "text": [
      "Loading data for meter ElecMeterID(instance=2, building=1, dataset='REDD')     \n",
      "Done loading data all meters for this chunk.\n",
      "For appliance ..  sockets\n",
      "Loading data for  REDD  dataset\n",
      "Loading building ...  1\n",
      "Loading data for meter ElecMeterID(instance=16, building=1, dataset='REDD')     \n",
      "Done loading data all meters for this chunk.\n",
      "Loading data for  REDD  dataset\n",
      "Loading data for meter ElecMeterID(instance=2, building=1, dataset='REDD')     \n",
      "Done loading data all meters for this chunk.\n",
      "Loading data for meter ElecMeterID(instance=16, building=1, dataset='REDD')     \n",
      "Done loading data all meters for this chunk.\n",
      "physical_quantity              power\n",
      "type                          active\n",
      "2011-05-02 00:00:00-04:00  42.937500\n",
      "2011-05-02 00:01:00-04:00  42.933334\n",
      "2011-05-02 00:02:00-04:00  42.562500\n",
      "2011-05-02 00:03:00-04:00  42.187500\n",
      "2011-05-02 00:04:00-04:00  42.312500\n",
      "             0\n",
      "0     0.001539\n",
      "1     0.001536\n",
      "2     0.001209\n",
      "3     0.000880\n",
      "4     0.000990\n",
      "5     0.001814\n",
      "6     0.001429\n",
      "7     0.001319\n",
      "8     0.001008\n",
      "9     0.001979\n",
      "10    0.001319\n",
      "11    0.000330\n",
      "12    0.001649\n",
      "13    0.000935\n",
      "14    0.001829\n",
      "15    0.001154\n",
      "16    0.000990\n",
      "17    0.001814\n",
      "18    0.000550\n",
      "19    0.000660\n",
      "20    0.000330\n",
      "21    0.001125\n",
      "22    0.001429\n",
      "23    0.000550\n",
      "24    0.001429\n",
      "25    0.000990\n",
      "26    0.000770\n",
      "27    0.000773\n",
      "28    0.000605\n",
      "29    0.001594\n",
      "...        ...\n",
      "1410  0.003408\n",
      "1411  0.004838\n",
      "1412  0.002826\n",
      "1413  0.004068\n",
      "1414  0.003628\n",
      "1415  0.003518\n",
      "1416  0.003408\n",
      "1417  0.002415\n",
      "1418  0.003299\n",
      "1419  0.003079\n",
      "1420  0.003189\n",
      "1421  0.002144\n",
      "1422  0.005054\n",
      "1423  0.004728\n",
      "1424  0.001924\n",
      "1425  0.002859\n",
      "1426  0.002969\n",
      "1427  0.004728\n",
      "1428  0.002749\n",
      "1429  0.003024\n",
      "1430  0.003823\n",
      "1431  0.003299\n",
      "1432  0.002529\n",
      "1433  0.003958\n",
      "1434  0.003189\n",
      "1435  0.004174\n",
      "1436  0.003353\n",
      "1437  0.003764\n",
      "1438  0.003738\n",
      "1439  0.003299\n",
      "\n",
      "[1440 rows x 1 columns]\n",
      "Loading data for  REDD  dataset\n",
      "Loading building ...  1\n",
      "Loading data for meter ElecMeterID(instance=2, building=1, dataset='REDD')     \n",
      "Done loading data all meters for this chunk.\n",
      "(1000, 1)\n",
      "(11, 100, 1)\n",
      "Loading data for meter ElecMeterID(instance=1, building=1, dataset='REDD')     "
     ]
    },
    {
     "name": "stderr",
     "output_type": "stream",
     "text": [
      "/home/ayush/anaconda3/envs/n1/lib/python3.6/site-packages/tables-3.5.2-py3.6-linux-x86_64.egg/tables/path.py:157: NaturalNameWarning: object name is not a valid Python identifier: '1'; it does not match the pattern ``^[a-zA-Z_][a-zA-Z0-9_]*$``; you will not be able to use natural naming to access this object; using ``getattr()`` will still work, though\n",
      "  check_attribute_name(name)\n"
     ]
    },
    {
     "name": "stdout",
     "output_type": "stream",
     "text": [
      "Loading data for meter ElecMeterID(instance=2, building=1, dataset='REDD')     \n",
      "Done loading data all meters for this chunk.\n",
      "(440, 1)\n",
      "(5, 100, 1)\n",
      "For appliance ..  sockets\n",
      "Loading data for  REDD  dataset\n",
      "Loading building ...  1\n",
      "Loading data for meter ElecMeterID(instance=16, building=1, dataset='REDD')     \n",
      "Done loading data all meters for this chunk.\n",
      "(1000, 1)\n",
      "(11, 100, 1)\n",
      "Loading data for meter ElecMeterID(instance=16, building=1, dataset='REDD')     \n",
      "Done loading data all meters for this chunk.\n",
      "(440, 1)\n",
      "(5, 100, 1)\n",
      "['/train/REDD/1/mains/chunk1', '/train/REDD/1/mains/chunk2', '/train/REDD/1/sockets/chunk1', '/train/REDD/1/sockets/chunk2']\n"
     ]
    }
   ],
   "source": [
    "api = PreprocessAPI(preprocessing)"
   ]
  },
  {
   "cell_type": "code",
   "execution_count": 5,
   "metadata": {},
   "outputs": [],
   "source": [
    "import pandas as pd"
   ]
  },
  {
   "cell_type": "code",
   "execution_count": 6,
   "metadata": {},
   "outputs": [],
   "source": [
    "s = pd.HDFStore('train-pre.h5','r')"
   ]
  },
  {
   "cell_type": "code",
   "execution_count": 7,
   "metadata": {
    "scrolled": true
   },
   "outputs": [
    {
     "name": "stdout",
     "output_type": "stream",
     "text": [
      "/train/REDD/1/mains/chunk1\n",
      "/train/REDD/1/mains/chunk2\n",
      "/train/REDD/1/sockets/chunk1\n",
      "/train/REDD/1/sockets/chunk2\n"
     ]
    }
   ],
   "source": [
    "for i in s.keys():\n",
    "    print (i)"
   ]
  },
  {
   "cell_type": "code",
   "execution_count": 19,
   "metadata": {},
   "outputs": [],
   "source": [
    "s.close()"
   ]
  },
  {
   "cell_type": "code",
   "execution_count": 1,
   "metadata": {},
   "outputs": [
    {
     "name": "stderr",
     "output_type": "stream",
     "text": [
      "Using TensorFlow backend.\n"
     ]
    }
   ],
   "source": [
    "from nilmtk.api import API"
   ]
  },
  {
   "cell_type": "code",
   "execution_count": 2,
   "metadata": {},
   "outputs": [],
   "source": [
    "#REDD#ECO\n",
    "d={\n",
    "    'params': {\n",
    "            'power': {'mains':['active', 'apparent'],# power ac_type for mains appliance\n",
    "                      'appliance':['active'] # power ac_type for submeters/appliance\n",
    "                     }\n",
    "        },\n",
    "    'sample_rate': 60,\n",
    "    'appliances': ['fridge','washing machine'],\n",
    "    'methods': {'Mean':{} #parameters specific to the algorithm passed as a dictionary, For FHMM eg. num_of_states\n",
    "        },\n",
    "    'preprocessing':True,\n",
    "    'pre_trained': False, #path/false, yet to be implemented\n",
    "    'save_model':'/home/data/models/', #path/false, yet to be implemented\n",
    "    'save_predictions':'/home/data/pred/',# path/false, yet to be implemented\n",
    "    'train': {\n",
    "    'datasets': {\n",
    "\t\t\t'REDD': {\n",
    "                'path':'/home/ayush/train-pre.h5',\n",
    "\t\t\t\t'buildings': {\n",
    "\t\t\t\t\t1: {\n",
    "\t\t\t\t\t\t'start_time': '2011-05-01',\n",
    "\t\t\t\t\t\t'end_time': '2011-05-30'\n",
    "\t\t\t\t\t},\n",
    "                }\n",
    "                \n",
    "\t\t\t}\n",
    "\t\t}\n",
    "\t},\n",
    "\t'test': {\n",
    "\t\t'datasets': {\n",
    "\t\t\t'ECO': {\n",
    "                'path':'/home/ayush/train-pre.h5',\n",
    "\t\t\t\t'buildings': {\n",
    "\t\t\t\t\t1: {\n",
    "\t\t\t\t\t\t'start_time': '2012-06-05',\n",
    "\t\t\t\t\t\t'end_time': '2012-06-07'\n",
    "\t\t\t\t\t},\n",
    "                }\n",
    "\t\t\t}\n",
    "\t\t},\n",
    "        'metrics':['rmse'] # metrics on which we want the predictions to be evaluated\n",
    "\t}\n",
    "}"
   ]
  },
  {
   "cell_type": "code",
   "execution_count": null,
   "metadata": {},
   "outputs": [],
   "source": []
  },
  {
   "cell_type": "code",
   "execution_count": null,
   "metadata": {},
   "outputs": [],
   "source": []
  }
 ],
 "metadata": {
  "kernelspec": {
   "display_name": "Python 3",
   "language": "python",
   "name": "python3"
  },
  "language_info": {
   "codemirror_mode": {
    "name": "ipython",
    "version": 3
   },
   "file_extension": ".py",
   "mimetype": "text/x-python",
   "name": "python",
   "nbconvert_exporter": "python",
   "pygments_lexer": "ipython3",
   "version": "3.6.7"
  }
 },
 "nbformat": 4,
 "nbformat_minor": 2
}
