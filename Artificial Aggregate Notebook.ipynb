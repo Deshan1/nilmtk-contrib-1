{
 "cells": [
  {
   "cell_type": "code",
   "execution_count": 1,
   "metadata": {},
   "outputs": [
    {
     "name": "stderr",
     "output_type": "stream",
     "text": [
      "Using TensorFlow backend.\n"
     ]
    }
   ],
   "source": [
    "import warnings\n",
    "warnings.filterwarnings(\"ignore\")\n",
    "from api import API"
   ]
  },
  {
   "cell_type": "code",
   "execution_count": 2,
   "metadata": {},
   "outputs": [],
   "source": [
    "redd = {\n",
    "  'power': {\n",
    "    'mains': ['apparent','active'],\n",
    "    'appliance': ['apparent','active']\n",
    "  },\n",
    "  'sample_rate': 60,\n",
    "  'artificial_aggregate':True,\n",
    "  'appliances': ['fridge','air conditioner','electric furnace','washing machine'],\n",
    "  'methods': {\n",
    "#      'FHMM_EXACT':{},'Mean': {},\"CO\":{},'Hart85':{},\n",
    "#       \"RNN\":{'n_epochs':1,'batch_size':1024},\"Seq2Point\":{'n_epochs':1,'batch_size':1024},\n",
    "#       \"Seq2Seq\":{'n_epochs':1,'batch_size':1024},\"DAE\":{'n_epochs':1,'batch_size':1024},\"WindowGRU\":{'n_epochs':1,'batch_size':1024},\n",
    "#       \"DSC\":{'learning_rate':1e-11,'iterations':30},\n",
    "      \n",
    "      'Mean': {},\"CO\":{},'Hart85':{},\n",
    "      \"FHMM_EXACT\":{},\"RNN\":{'n_epochs':50,'batch_size':1024},\"Seq2Point\":{'n_epochs':50,'batch_size':1024},\n",
    "      \"Seq2Seq\":{'n_epochs':50,'batch_size':1024},\"DAE\":{'n_epochs':50,'batch_size':1024},\"WindowGRU\":{'n_epochs':30,'batch_size':1024},\n",
    "#       \"AFHMM\":{},\"AFHMM_SAC\":{},\n",
    "#       \"DSC\":{'learning_rate':1e-11,'iterations':300},\n",
    "\n",
    "  },\n",
    "   'train': {    \n",
    "    'datasets': {\n",
    "            'Dataport': {\n",
    "                'path': '../dataport.hdf5',\n",
    "\t\t\t\t'buildings': {\n",
    "\n",
    "\t\t\t\t10: {\n",
    "\t\t\t\t\t'start_time': '2015-04-04',\n",
    "\t\t\t\t\t'end_time': '2015-04-24'\n",
    "\t\t\t\t},\n",
    "\t\t\t\t15: {\n",
    "\t\t\t\t\t'start_time': '2015-04-30',\n",
    "\t\t\t\t\t'end_time': '2015-05-20'\n",
    "\t\t\t\t}\n",
    "\t\t\t\t}\n",
    "\t\t\t\t                \n",
    "\t\t\t}\n",
    "\t\t\t}\n",
    "\t},\n",
    "\t'test': {\n",
    "\t'datasets': {\n",
    "\t\t'Datport': {\n",
    "\t\t\t'path': '../dataport.hdf5',\n",
    "\t\t\t'buildings': {\n",
    "                \n",
    "\t\t\t\t10: {\n",
    "\t\t\t\t\t'start_time': '2015-04-25',\n",
    "\t\t\t\t\t'end_time': '2015-05-01'\n",
    "\t\t\t\t\t},\n",
    "\t\t\t\t15: {\n",
    "\t\t\t\t\t'start_time': '2015-05-20',\n",
    "\t\t\t\t\t'end_time': '2015-05-27'\n",
    "\t\t\t\t\t}\n",
    "\t\t\t}\n",
    "\t}\n",
    "},\n",
    "        'metrics':['mae']\n",
    "}\n",
    "}"
   ]
  },
  {
   "cell_type": "code",
   "execution_count": 3,
   "metadata": {},
   "outputs": [
    {
     "name": "stdout",
     "output_type": "stream",
     "text": [
      "Joint Testing for all algorithms\n",
      "Loading data for  Datport  dataset\n",
      "Dropping missing values\n",
      "Creating an Artificial Aggregate\n"
     ]
    },
    {
     "ename": "UnboundLocalError",
     "evalue": "local variable 'clf' referenced before assignment",
     "output_type": "error",
     "traceback": [
      "\u001b[0;31m---------------------------------------------------------------------------\u001b[0m",
      "\u001b[0;31mUnboundLocalError\u001b[0m                         Traceback (most recent call last)",
      "\u001b[0;32m<ipython-input-3-6b963021b56a>\u001b[0m in \u001b[0;36m<module>\u001b[0;34m\u001b[0m\n\u001b[0;32m----> 1\u001b[0;31m \u001b[0mapi_res\u001b[0m \u001b[0;34m=\u001b[0m \u001b[0mAPI\u001b[0m\u001b[0;34m(\u001b[0m\u001b[0mredd\u001b[0m\u001b[0;34m)\u001b[0m\u001b[0;34m\u001b[0m\u001b[0;34m\u001b[0m\u001b[0m\n\u001b[0m",
      "\u001b[0;32m~/nilmtk-contrib/api.py\u001b[0m in \u001b[0;36m__init__\u001b[0;34m(self, params)\u001b[0m\n\u001b[1;32m     66\u001b[0m         \u001b[0mself\u001b[0m\u001b[0;34m.\u001b[0m\u001b[0mchunk_size\u001b[0m \u001b[0;34m=\u001b[0m \u001b[0mparams\u001b[0m\u001b[0;34m.\u001b[0m\u001b[0mget\u001b[0m\u001b[0;34m(\u001b[0m\u001b[0;34m'chunk_size'\u001b[0m\u001b[0;34m,\u001b[0m\u001b[0mself\u001b[0m\u001b[0;34m.\u001b[0m\u001b[0mchunk_size\u001b[0m\u001b[0;34m)\u001b[0m\u001b[0;34m\u001b[0m\u001b[0;34m\u001b[0m\u001b[0m\n\u001b[1;32m     67\u001b[0m \u001b[0;34m\u001b[0m\u001b[0m\n\u001b[0;32m---> 68\u001b[0;31m         \u001b[0mself\u001b[0m\u001b[0;34m.\u001b[0m\u001b[0mexperiment\u001b[0m\u001b[0;34m(\u001b[0m\u001b[0mparams\u001b[0m\u001b[0;34m)\u001b[0m\u001b[0;34m\u001b[0m\u001b[0;34m\u001b[0m\u001b[0m\n\u001b[0m\u001b[1;32m     69\u001b[0m \u001b[0;34m\u001b[0m\u001b[0m\n\u001b[1;32m     70\u001b[0m \u001b[0;34m\u001b[0m\u001b[0m\n",
      "\u001b[0;32m~/nilmtk-contrib/api.py\u001b[0m in \u001b[0;36mexperiment\u001b[0;34m(self, params)\u001b[0m\n\u001b[1;32m    124\u001b[0m         \u001b[0;32melse\u001b[0m\u001b[0;34m:\u001b[0m\u001b[0;34m\u001b[0m\u001b[0;34m\u001b[0m\u001b[0m\n\u001b[1;32m    125\u001b[0m             \u001b[0mprint\u001b[0m \u001b[0;34m(\u001b[0m\u001b[0;34m\"Joint Testing for all algorithms\"\u001b[0m\u001b[0;34m)\u001b[0m\u001b[0;34m\u001b[0m\u001b[0;34m\u001b[0m\u001b[0m\n\u001b[0;32m--> 126\u001b[0;31m             \u001b[0mself\u001b[0m\u001b[0;34m.\u001b[0m\u001b[0mtest_jointly\u001b[0m\u001b[0;34m(\u001b[0m\u001b[0md\u001b[0m\u001b[0;34m)\u001b[0m\u001b[0;34m\u001b[0m\u001b[0;34m\u001b[0m\u001b[0m\n\u001b[0m\u001b[1;32m    127\u001b[0m \u001b[0;34m\u001b[0m\u001b[0m\n\u001b[1;32m    128\u001b[0m         \u001b[0;31m#self.store_errors_and_predictions()\u001b[0m\u001b[0;34m\u001b[0m\u001b[0;34m\u001b[0m\u001b[0;34m\u001b[0m\u001b[0m\n",
      "\u001b[0;32m~/nilmtk-contrib/api.py\u001b[0m in \u001b[0;36mtest_jointly\u001b[0;34m(self, d)\u001b[0m\n\u001b[1;32m    300\u001b[0m \u001b[0;34m\u001b[0m\u001b[0m\n\u001b[1;32m    301\u001b[0m                 \u001b[0mself\u001b[0m\u001b[0;34m.\u001b[0m\u001b[0mstoring_key\u001b[0m \u001b[0;34m=\u001b[0m \u001b[0mstr\u001b[0m\u001b[0;34m(\u001b[0m\u001b[0mdataset\u001b[0m\u001b[0;34m)\u001b[0m \u001b[0;34m+\u001b[0m \u001b[0;34m\"_\"\u001b[0m \u001b[0;34m+\u001b[0m \u001b[0mstr\u001b[0m\u001b[0;34m(\u001b[0m\u001b[0mbuilding\u001b[0m\u001b[0;34m)\u001b[0m\u001b[0;34m\u001b[0m\u001b[0;34m\u001b[0m\u001b[0m\n\u001b[0;32m--> 302\u001b[0;31m                 \u001b[0mself\u001b[0m\u001b[0;34m.\u001b[0m\u001b[0mcall_predict\u001b[0m\u001b[0;34m(\u001b[0m\u001b[0mself\u001b[0m\u001b[0;34m.\u001b[0m\u001b[0mclassifiers\u001b[0m\u001b[0;34m)\u001b[0m\u001b[0;34m\u001b[0m\u001b[0;34m\u001b[0m\u001b[0m\n\u001b[0m\u001b[1;32m    303\u001b[0m \u001b[0;34m\u001b[0m\u001b[0m\n\u001b[1;32m    304\u001b[0m \u001b[0;34m\u001b[0m\u001b[0m\n",
      "\u001b[0;32m~/nilmtk-contrib/api.py\u001b[0m in \u001b[0;36mcall_predict\u001b[0;34m(self, classifiers)\u001b[0m\n\u001b[1;32m    341\u001b[0m     \u001b[0;32mdef\u001b[0m \u001b[0mcall_predict\u001b[0m\u001b[0;34m(\u001b[0m\u001b[0mself\u001b[0m\u001b[0;34m,\u001b[0m\u001b[0mclassifiers\u001b[0m\u001b[0;34m)\u001b[0m\u001b[0;34m:\u001b[0m\u001b[0;34m\u001b[0m\u001b[0;34m\u001b[0m\u001b[0m\n\u001b[1;32m    342\u001b[0m \u001b[0;34m\u001b[0m\u001b[0m\n\u001b[0;32m--> 343\u001b[0;31m         \u001b[0mprint\u001b[0m \u001b[0;34m(\u001b[0m\u001b[0;34m\"Started Prediction using: \"\u001b[0m\u001b[0;34m,\u001b[0m\u001b[0mclf\u001b[0m\u001b[0;34m.\u001b[0m\u001b[0mMODEL_NAME\u001b[0m\u001b[0;34m)\u001b[0m\u001b[0;34m\u001b[0m\u001b[0;34m\u001b[0m\u001b[0m\n\u001b[0m\u001b[1;32m    344\u001b[0m \u001b[0;34m\u001b[0m\u001b[0m\n\u001b[1;32m    345\u001b[0m         \"\"\"\n",
      "\u001b[0;31mUnboundLocalError\u001b[0m: local variable 'clf' referenced before assignment"
     ]
    }
   ],
   "source": [
    "\n",
    "api_res = API(redd)\n"
   ]
  },
  {
   "cell_type": "code",
   "execution_count": null,
   "metadata": {},
   "outputs": [],
   "source": []
  },
  {
   "cell_type": "code",
   "execution_count": null,
   "metadata": {},
   "outputs": [],
   "source": [
    "api_res.errors"
   ]
  },
  {
   "cell_type": "code",
   "execution_count": null,
   "metadata": {},
   "outputs": [],
   "source": [
    "import numpy as np\n",
    "import pandas as pd\n",
    "\n",
    "vals = np.concatenate([np.expand_dims(df.values,axis=2) for df in api_res.errors],axis=2)\n",
    "\n",
    "\n",
    "cols = api_res.errors[0].columns\n",
    "indexes = api_res.errors[0].index\n",
    "\n",
    "\n",
    "mean = np.mean(vals,axis=2)\n",
    "std = np.std(vals,axis=2)\n",
    "print ('\\n\\n')\n",
    "print (\"Mean\")\n",
    "print (pd.DataFrame(mean,index=indexes,columns=cols))\n",
    "print ('\\n\\n')\n",
    "print (\"Standard Deviation\")\n",
    "print (pd.DataFrame(std,index=indexes,columns=cols))"
   ]
  },
  {
   "cell_type": "code",
   "execution_count": null,
   "metadata": {},
   "outputs": [],
   "source": []
  }
 ],
 "metadata": {
  "kernelspec": {
   "display_name": "Python 3",
   "language": "python",
   "name": "python3"
  },
  "language_info": {
   "codemirror_mode": {
    "name": "ipython",
    "version": 3
   },
   "file_extension": ".py",
   "mimetype": "text/x-python",
   "name": "python",
   "nbconvert_exporter": "python",
   "pygments_lexer": "ipython3",
   "version": "3.6.9"
  }
 },
 "nbformat": 4,
 "nbformat_minor": 2
}
