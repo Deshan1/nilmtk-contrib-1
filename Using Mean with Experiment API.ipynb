{
 "cells": [
  {
   "cell_type": "code",
   "execution_count": 1,
   "metadata": {},
   "outputs": [],
   "source": [
    "from api import API"
   ]
  },
  {
   "cell_type": "code",
   "execution_count": 2,
   "metadata": {},
   "outputs": [],
   "source": [
    "# REDD \n",
    "\n",
    "redd={\n",
    "    'params': {\n",
    "            'power': {'mains':['apparent'],\n",
    "                      'appliance':['active']\n",
    "                     }\n",
    "        },\n",
    "    'sample_rate': 60,\n",
    "    'appliances': ['fridge'],\n",
    "    'methods': {\n",
    "                    'Mean':{}\n",
    "                },\n",
    "    'chunk_size': None,\n",
    "    'train': {    \n",
    "    'datasets': {\n",
    "            'REDD': {\n",
    "                'path': 'C:/Users/Hp/Desktop/Rithwik/redd2.h5',\n",
    "\t\t\t\t'buildings': {\n",
    "\t\t\t\t\t1: {\n",
    "\t\t\t\t\t\t'start_time': '2011-04-21',\n",
    "\t\t\t\t\t\t'end_time': '2011-04-30'\n",
    "\t\t\t\t\t},\n",
    "                    \n",
    "                }\n",
    "                \n",
    "\t\t\t}\n",
    "\t\t}\n",
    "\t},\n",
    "\t'test': {\n",
    "\t\t'datasets': {\n",
    "\t\t\t'REDD': {\n",
    "                'path': 'C:/Users/Hp/Desktop/Rithwik/redd2.h5',\n",
    "\t\t\t\t'buildings': {\n",
    "\t\t\t\t\t1: {\n",
    "\t\t\t\t\t\t'start_time': '2011-05-01',\n",
    "\t\t\t\t\t\t'end_time': '2011-05-05'\n",
    "\t\t\t\t\t}\n",
    "                }\n",
    "\t\t\t}\n",
    "\t\t},\n",
    "        'metrics':['mae','rmse','rel_error']\n",
    "\t}\n",
    "}\n"
   ]
  },
  {
   "cell_type": "code",
   "execution_count": 3,
   "metadata": {},
   "outputs": [
    {
     "name": "stdout",
     "output_type": "stream",
     "text": [
      "Started training for  Mean\n",
      "Joint training for  Mean\n",
      "............... Loading Data for training ...................\n",
      "Loading data for  REDD  dataset\n"
     ]
    },
    {
     "name": "stderr",
     "output_type": "stream",
     "text": [
      "C:\\Users\\Hp\\Anaconda3\\envs\\new_nilmtk\\lib\\site-packages\\nilm_metadata\\file_management.py:16: YAMLLoadWarning: calling yaml.load() without Loader=... is deprecated, as the default Loader is unsafe. Please read https://msg.pyyaml.org/load for full details.\n",
      "  objs = yaml.load(fh)\n"
     ]
    },
    {
     "name": "stdout",
     "output_type": "stream",
     "text": [
      "Loading building ...  1\n",
      "Loading data for meter ElecMeterID(instance=2, building=1, dataset='REDD')     \n",
      "Done loading data all meters for this chunk.\n",
      "Loading data for meter ElecMeterID(instance=5, building=1, dataset='REDD')     \n",
      "Done loading data all meters for this chunk.\n",
      "Dropping missing values\n",
      "Finished training for  Mean\n",
      "Joint Testing for all algorithms\n",
      "Loading data for  REDD  dataset\n",
      "Loading data for meter ElecMeterID(instance=2, building=1, dataset='REDD')     \n",
      "Done loading data all meters for this chunk.\n",
      "Loading data for meter ElecMeterID(instance=5, building=1, dataset='REDD')     \n",
      "Done loading data all meters for this chunk.\n",
      "Dropping missing values\n",
      "............  mae  ..............\n",
      "             Mean\n",
      "fridge  71.231812\n",
      "............  rmse  ..............\n",
      "             Mean\n",
      "fridge  84.934052\n",
      "............  rel_error  ..............\n",
      "              Mean\n",
      "fridge  487.493706\n"
     ]
    },
    {
     "name": "stderr",
     "output_type": "stream",
     "text": [
      "C:\\Users\\Hp\\Anaconda3\\envs\\new_nilmtk\\lib\\site-packages\\pandas\\plotting\\_matplotlib\\converter.py:102: FutureWarning: Using an implicitly registered datetime converter for a matplotlib plotting method. The converter was registered by pandas on import. Future versions of pandas will require you to explicitly register matplotlib converters.\n",
      "\n",
      "To register the converters:\n",
      "\t>>> from pandas.plotting import register_matplotlib_converters\n",
      "\t>>> register_matplotlib_converters()\n",
      "  warnings.warn(msg, FutureWarning)\n"
     ]
    },
    {
     "data": {
      "text/plain": [
       "<api.API at 0x1f523ff0a58>"
      ]
     },
     "execution_count": 3,
     "metadata": {},
     "output_type": "execute_result"
    },
    {
     "data": {
      "image/png": "[encoded data removed]",
      "text/plain": [
       "<Figure size 432x288 with 1 Axes>"
      ]
     },
     "metadata": {
      "needs_background": "light"
     },
     "output_type": "display_data"
    }
   ],
   "source": [
    "API(redd)"
   ]
  },
  {
   "cell_type": "code",
   "execution_count": null,
   "metadata": {},
   "outputs": [],
   "source": []
  }
 ],
 "metadata": {
  "kernelspec": {
   "display_name": "Python 3",
   "language": "python",
   "name": "python3"
  },
  "language_info": {
   "codemirror_mode": {
    "name": "ipython",
    "version": 3
   },
   "file_extension": ".py",
   "mimetype": "text/x-python",
   "name": "python",
   "nbconvert_exporter": "python",
   "pygments_lexer": "ipython3",
   "version": "3.6.7"
  }
 },
 "nbformat": 4,
 "nbformat_minor": 2
}
